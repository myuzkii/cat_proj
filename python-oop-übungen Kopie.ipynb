{
 "cells": [
  {
   "cell_type": "markdown",
   "metadata": {},
   "source": [
    "# Aufgabe1 - Klasse Datum\n",
    "#### Schreiben Sie eine Klasse Datum für ein Kalenderdatum. Die Klasse soll folgende Bestandteile haben:\n",
    " \n",
    "    Attribute: Tag, Monat und Jahr (jeweils vom Typ int)\n",
    "    set-/get-Methoden für die Attribute\n",
    "    eine __init__-Methode, die alle Attribute mit den übergebenen Parametern initialisiert.\n",
    "\n",
    "#### Weiterhin sollen die  Methoden __str__(self) sowie __eq__(self, other) geeignet überschrieben werden\n",
    "\n",
    "#### Implementierung der Klasse \"Datum\":"
   ]
  },
  {
   "cell_type": "code",
   "execution_count": 13,
   "metadata": {},
   "outputs": [],
   "source": [
    "class Datum:\n",
    "  def __init__(self, tag, monat, jahr):\n",
    "    self.tag = tag\n",
    "    self.monat = monat\n",
    "    self.jahr = jahr\n",
    "\n",
    "  def get_tag(self):\n",
    "    return str(self.tag)\n",
    "\n",
    "  def set_tag(self, tag):\n",
    "    self.tag = tag\n",
    "\n",
    "  def get_monat(self):\n",
    "    return str(self.monat)\n",
    "\n",
    "  def set_monat(self, monat):\n",
    "    self.monat = monat\n",
    "\n",
    "  def get_jahr(self):\n",
    "    return str(self.jahr)\n",
    "\n",
    "  def set_jahr(self, jahr):\n",
    "    self.jahr = jahr\n",
    "  \n",
    "  def __str__(self):\n",
    "    return str(self.tag) + \" \" + str(self.monat) + \" \" + str(self.jahr)\n",
    "\n",
    "  def __eq__ (self, other):\n",
    "    return self.tag == other.tag \\\n",
    "      and self.monat == other.monat \\\n",
    "        and self.jahr == other.jahr\n",
    "\n",
    "  def __ne__ (self, other):\n",
    "    return self.tag != other.tag \\\n",
    "      or self.monat != other.monat \\\n",
    "        or self.jahr != other.jahr\n",
    "\n",
    "      "
   ]
  },
  {
   "cell_type": "markdown",
   "metadata": {},
   "source": [
    "#### Testen Sie Ihre Klasse"
   ]
  },
  {
   "cell_type": "code",
   "execution_count": 14,
   "metadata": {},
   "outputs": [
    {
     "name": "stdout",
     "output_type": "stream",
     "text": [
      "True\n",
      "False\n",
      "1 2 2000\n"
     ]
    }
   ],
   "source": [
    "d = Datum(1,2,2000)\n",
    "d2 = Datum(1,2,2000)\n",
    "d3 = Datum(4,2,2000)\n",
    "print(d == d2)\n",
    "print(d3 == d2)\n",
    "\n",
    "print(d)\n"
   ]
  },
  {
   "cell_type": "markdown",
   "metadata": {},
   "source": [
    "# Aufgabe2 - Klasse Feiertag\n",
    "####  Schreiben Sie eine Unterklasse Feiertag der Klasse Datum  (Die Vereinbarung der Oberklasse Datum soll nicht verändert werden!). Diese Klasse soll neben den geerbten Attributen / Methoden der Oberklasse folgende Bestandteile haben:\n",
    "\n",
    "    ein zusätzliches Attribut zur Aufnahme des Namens des Feiertags\n",
    "    zusätzliche Methoden: get-/set-Methoden für das neue Attribut\n",
    "    eine __init__-Methode, die sämtliche Attribute der Klasse Feiertag initialisiert\n",
    "    die Methode __str__(self) der Oberklasse soll überschrieben werden\n",
    "    ein Feiertag soll in folgendem Format ausgegeben werden: 3.10.2022 Tag der Deutschen Einheit\n"
   ]
  },
  {
   "cell_type": "code",
   "execution_count": 17,
   "metadata": {},
   "outputs": [],
   "source": [
    "class Feiertag(Datum):\n",
    "    def __init__(self, tag, monat, jahr, name):\n",
    "        super().__init__(tag, monat, jahr)\n",
    "        self.__name = name\n",
    "\n",
    "    def __str__(self):\n",
    "        return super().__str__() + \" \" + str(self.__name)\n",
    "\n",
    "    def get_name(self):\n",
    "        return self.__name\n",
    "\n",
    "    def set_name(self, name):\n",
    "        self.name = name"
   ]
  },
  {
   "cell_type": "markdown",
   "metadata": {},
   "source": [
    "#### Testen Sie die neue Klasse \"Feiertag\":"
   ]
  },
  {
   "cell_type": "code",
   "execution_count": 18,
   "metadata": {},
   "outputs": [
    {
     "name": "stdout",
     "output_type": "stream",
     "text": [
      "3 10 2022 Tag der Deutschen Einheit\n"
     ]
    }
   ],
   "source": [
    "f = Feiertag(1,1,2022, \"Neujahr\")\n",
    "f2 = Feiertag(8,3,2022, \"Frauentag\")\n",
    "f3 = Feiertag(24,12,2022, \"Heiliger Abend\")\n",
    "f4 = Feiertag(3,10,2022, \"Tag der Deutschen Einheit\")\n",
    "\n",
    "print(f4)"
   ]
  }
 ],
 "metadata": {
  "kernelspec": {
   "display_name": "Python 3.10.5 64-bit",
   "language": "python",
   "name": "python3"
  },
  "language_info": {
   "codemirror_mode": {
    "name": "ipython",
    "version": 3
   },
   "file_extension": ".py",
   "mimetype": "text/x-python",
   "name": "python",
   "nbconvert_exporter": "python",
   "pygments_lexer": "ipython3",
   "version": "3.10.5"
  },
  "vscode": {
   "interpreter": {
    "hash": "aee8b7b246df8f9039afb4144a1f6fd8d2ca17a180786b69acc140d282b71a49"
   }
  }
 },
 "nbformat": 4,
 "nbformat_minor": 4
}
